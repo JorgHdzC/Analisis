{
 "cells": [
  {
   "cell_type": "markdown",
   "metadata": {},
   "source": [
    "![](escudo.png)\n",
    "    \n",
    "# Analisis masivos de datos\n",
    "## Contador SQL de la velocidad de conexion a internet\n",
    "### Jose Gabriel Rodriguez Rivas\n",
    "## Jorge Alberto Hernandez Castro\n"
   ]
  },
  {
   "cell_type": "markdown",
   "metadata": {},
   "source": [
    "### Paso 1.- Conectarse a Base de Datos"
   ]
  },
  {
   "cell_type": "code",
   "execution_count": 1,
   "metadata": {},
   "outputs": [],
   "source": [
    "# this is the library to talk to the database\n",
    "import sqlite3\n",
    "import pandas as pd\n",
    "# this is a library for data vizualization\n",
    "from matplotlib import pyplot as plt\n",
    "# this is to say that we want our plots to be part of this page, and not opened in a new window\n",
    "%matplotlib inline"
   ]
  },
  {
   "cell_type": "code",
   "execution_count": 2,
   "metadata": {},
   "outputs": [],
   "source": [
    "conn = sqlite3.connect('InternetSpeed.db')"
   ]
  },
  {
   "cell_type": "code",
   "execution_count": 3,
   "metadata": {},
   "outputs": [
    {
     "data": {
      "text/plain": [
       "<sqlite3.Cursor at 0x259f0c1b340>"
      ]
     },
     "execution_count": 3,
     "metadata": {},
     "output_type": "execute_result"
    }
   ],
   "source": [
    "conn.cursor()"
   ]
  },
  {
   "cell_type": "code",
   "execution_count": 4,
   "metadata": {},
   "outputs": [],
   "source": [
    "cur = conn.cursor()"
   ]
  },
  {
   "cell_type": "code",
   "execution_count": 5,
   "metadata": {},
   "outputs": [
    {
     "data": {
      "text/plain": [
       "<sqlite3.Cursor at 0x259f0c1b7a0>"
      ]
     },
     "execution_count": 5,
     "metadata": {},
     "output_type": "execute_result"
    }
   ],
   "source": [
    "consulta = 'SELECT DateTime FROM LA_wifi_speed_UK LIMIT 10;'\n",
    "cur.execute(consulta)"
   ]
  },
  {
   "cell_type": "code",
   "execution_count": 6,
   "metadata": {},
   "outputs": [
    {
     "name": "stdout",
     "output_type": "stream",
     "text": [
      "('2016-11-23 00:00:00.000000',)\n",
      "('2016-11-23 00:30:00.000000',)\n",
      "('2016-11-23 01:00:00.000000',)\n",
      "('2016-11-23 01:30:00.000000',)\n",
      "('2016-11-23 02:00:00.000000',)\n",
      "('2016-11-23 02:30:00.000000',)\n",
      "('2016-11-23 03:00:00.000000',)\n",
      "('2016-11-23 03:30:00.000000',)\n",
      "('2016-11-23 04:00:00.000000',)\n",
      "('2016-11-23 04:30:00.000000',)\n"
     ]
    }
   ],
   "source": [
    "for row in cur:\n",
    "    print (row)"
   ]
  },
  {
   "cell_type": "code",
   "execution_count": 7,
   "metadata": {},
   "outputs": [
    {
     "data": {
      "text/plain": [
       "<sqlite3.Cursor at 0x259f0c1b7a0>"
      ]
     },
     "execution_count": 7,
     "metadata": {},
     "output_type": "execute_result"
    }
   ],
   "source": [
    "consulta = 'SELECT DateTime FROM LA_wifi_speed_UK ORDER BY RANDOM() LIMIT 10;'\n",
    "cur.execute(consulta)"
   ]
  },
  {
   "cell_type": "code",
   "execution_count": 8,
   "metadata": {},
   "outputs": [
    {
     "name": "stdout",
     "output_type": "stream",
     "text": [
      "('2016-12-10 08:00:00.000000',)\n",
      "('2016-12-06 03:30:00.000000',)\n",
      "('2016-12-11 00:30:00.000000',)\n",
      "('2016-11-28 05:30:00.000000',)\n",
      "('2016-12-10 05:00:00.000000',)\n",
      "('2016-12-05 11:00:00.000000',)\n",
      "('2016-12-09 08:30:00.000000',)\n",
      "('2016-11-30 06:30:00.000000',)\n",
      "('2016-12-03 12:30:00.000000',)\n",
      "('2016-12-05 03:00:00.000000',)\n"
     ]
    }
   ],
   "source": [
    "for row in cur:\n",
    "    print (row)"
   ]
  },
  {
   "cell_type": "code",
   "execution_count": 9,
   "metadata": {},
   "outputs": [
    {
     "data": {
      "text/plain": [
       "(('E07000223_p', None, None, None, None, None, None),\n",
       " ('E07000026_p', None, None, None, None, None, None),\n",
       " ('E07000032_p', None, None, None, None, None, None),\n",
       " ('E07000224_p', None, None, None, None, None, None),\n",
       " ('E07000170_p', None, None, None, None, None, None),\n",
       " ('E07000105_p', None, None, None, None, None, None),\n",
       " ('E07000004_p', None, None, None, None, None, None),\n",
       " ('E07000200_p', None, None, None, None, None, None),\n",
       " ('E09000002_p', None, None, None, None, None, None),\n",
       " ('E09000003_p', None, None, None, None, None, None))"
      ]
     },
     "execution_count": 9,
     "metadata": {},
     "output_type": "execute_result"
    }
   ],
   "source": [
    "consulta = 'SELECT * FROM LA_wifi_speed_UK LIMIT 1'\n",
    "cur.execute(consulta)\n",
    "cur.description[:10]"
   ]
  },
  {
   "cell_type": "code",
   "execution_count": 10,
   "metadata": {},
   "outputs": [],
   "source": [
    "# loop over the header and store them in a list\n",
    "columns = [member[0] for member in cur.description]"
   ]
  },
  {
   "cell_type": "code",
   "execution_count": 11,
   "metadata": {},
   "outputs": [],
   "source": [
    "# ignore index column\n",
    "columns = columns[1:]"
   ]
  },
  {
   "cell_type": "code",
   "execution_count": 14,
   "metadata": {},
   "outputs": [],
   "source": [
    "# remove suffix '_p'\n",
    "columns = [c.replace('_p', '') for c in columns]\n",
    "# remove suffix '_d'\n",
    "columns = [c.replace('_d', '') for c in columns]\n",
    "# remove suffix '_u'\n",
    "columns = [c.replace('_u', '') for c in columns]\n",
    "# this operation is to remove duplicates\n",
    "columns = list(set(columns))"
   ]
  },
  {
   "cell_type": "code",
   "execution_count": 15,
   "metadata": {},
   "outputs": [
    {
     "data": {
      "text/plain": [
       "['E06000049',\n",
       " 'E07000192',\n",
       " 'E08000005',\n",
       " 'E06000018',\n",
       " 'E07000088',\n",
       " 'E07000194',\n",
       " 'E07000038',\n",
       " 'E07000220',\n",
       " 'E07000110',\n",
       " 'E09000026']"
      ]
     },
     "execution_count": 15,
     "metadata": {},
     "output_type": "execute_result"
    }
   ],
   "source": [
    "# visualize the first 10 areas\n",
    "columns[:10]"
   ]
  },
  {
   "cell_type": "code",
   "execution_count": 16,
   "metadata": {},
   "outputs": [
    {
     "name": "stdout",
     "output_type": "stream",
     "text": [
      "E06000049\n"
     ]
    }
   ],
   "source": [
    "area = columns[0]\n",
    "print (area)"
   ]
  },
  {
   "cell_type": "code",
   "execution_count": 17,
   "metadata": {},
   "outputs": [
    {
     "name": "stdout",
     "output_type": "stream",
     "text": [
      "dict_keys(['_p', '_d', '_u'])\n",
      "dict_values(['ping', 'download', 'upload'])\n"
     ]
    }
   ],
   "source": [
    "##'llave':'valor'\n",
    "suffix = {'_p':'ping', '_d':'download', '_u':'upload'}\n",
    "# we have the suffixes as the keys of the dictionary\n",
    "print (suffix.keys() )\n",
    "\n",
    "# we have the complete names as the values of the dictionary\n",
    "print (suffix.values() )"
   ]
  },
  {
   "cell_type": "code",
   "execution_count": 18,
   "metadata": {},
   "outputs": [
    {
     "data": {
      "text/plain": [
       "'E06000049'"
      ]
     },
     "execution_count": 18,
     "metadata": {},
     "output_type": "execute_result"
    }
   ],
   "source": [
    "area = columns[0]\n",
    "\n",
    "area"
   ]
  },
  {
   "cell_type": "code",
   "execution_count": null,
   "metadata": {},
   "outputs": [],
   "source": [
    "## , para unir tablas\n",
    "area = columns[0]\n",
    "plt.figure(figsize=(10, 8))\n",
    "\n",
    "# Plot each variable in suffix.keys() for each area\n",
    "for s in suffix.keys():\n",
    "    consulta = 'SELECT \"{}{}\" FROM LA_wifi_speed_UK ORDER BY DateTime'.format(area, s)\n",
    "    cur.execute(consulta)\n",
    "    plt.plot(list(cur.fetchall()), label=suffix[s])\n",
    "plt.legend()\n",
    "plt.title(area)"
   ]
  },
  {
   "cell_type": "markdown",
   "metadata": {},
   "source": [
    "![](DUP.png)"
   ]
  },
  {
   "cell_type": "markdown",
   "metadata": {},
   "source": [
    "## Parte 2 Manipular los datos con pandas"
   ]
  },
  {
   "cell_type": "code",
   "execution_count": null,
   "metadata": {},
   "outputs": [],
   "source": [
    "del(df)"
   ]
  },
  {
   "cell_type": "code",
   "execution_count": 19,
   "metadata": {},
   "outputs": [
    {
     "data": {
      "text/html": [
       "<div>\n",
       "<style scoped>\n",
       "    .dataframe tbody tr th:only-of-type {\n",
       "        vertical-align: middle;\n",
       "    }\n",
       "\n",
       "    .dataframe tbody tr th {\n",
       "        vertical-align: top;\n",
       "    }\n",
       "\n",
       "    .dataframe thead th {\n",
       "        text-align: right;\n",
       "    }\n",
       "</style>\n",
       "<table border=\"1\" class=\"dataframe\">\n",
       "  <thead>\n",
       "    <tr style=\"text-align: right;\">\n",
       "      <th></th>\n",
       "      <th>Area</th>\n",
       "      <th>Ping_promedio</th>\n",
       "      <th>Descarga_promedio</th>\n",
       "      <th>Carga_promedio</th>\n",
       "    </tr>\n",
       "  </thead>\n",
       "  <tbody>\n",
       "  </tbody>\n",
       "</table>\n",
       "</div>"
      ],
      "text/plain": [
       "Empty DataFrame\n",
       "Columns: [Area, Ping_promedio, Descarga_promedio, Carga_promedio]\n",
       "Index: []"
      ]
     },
     "execution_count": 19,
     "metadata": {},
     "output_type": "execute_result"
    }
   ],
   "source": [
    "new_columns = ['Area', 'Ping_promedio', 'Descarga_promedio', 'Carga_promedio']\n",
    "df = pd.DataFrame(columns = new_columns)\n",
    "df"
   ]
  },
  {
   "cell_type": "code",
   "execution_count": 20,
   "metadata": {},
   "outputs": [
    {
     "data": {
      "text/html": [
       "<div>\n",
       "<style scoped>\n",
       "    .dataframe tbody tr th:only-of-type {\n",
       "        vertical-align: middle;\n",
       "    }\n",
       "\n",
       "    .dataframe tbody tr th {\n",
       "        vertical-align: top;\n",
       "    }\n",
       "\n",
       "    .dataframe thead th {\n",
       "        text-align: right;\n",
       "    }\n",
       "</style>\n",
       "<table border=\"1\" class=\"dataframe\">\n",
       "  <thead>\n",
       "    <tr style=\"text-align: right;\">\n",
       "      <th></th>\n",
       "      <th>Area</th>\n",
       "      <th>Ping_promedio</th>\n",
       "      <th>Descarga_promedio</th>\n",
       "      <th>Carga_promedio</th>\n",
       "    </tr>\n",
       "  </thead>\n",
       "  <tbody>\n",
       "    <tr>\n",
       "      <th>0</th>\n",
       "      <td>E06000049</td>\n",
       "      <td>57.118931</td>\n",
       "      <td>23.482727</td>\n",
       "      <td>9.389337</td>\n",
       "    </tr>\n",
       "    <tr>\n",
       "      <th>1</th>\n",
       "      <td>E07000192</td>\n",
       "      <td>52.211869</td>\n",
       "      <td>20.804882</td>\n",
       "      <td>8.344268</td>\n",
       "    </tr>\n",
       "    <tr>\n",
       "      <th>2</th>\n",
       "      <td>E08000005</td>\n",
       "      <td>54.087219</td>\n",
       "      <td>22.189738</td>\n",
       "      <td>8.778285</td>\n",
       "    </tr>\n",
       "    <tr>\n",
       "      <th>3</th>\n",
       "      <td>E06000018</td>\n",
       "      <td>55.543339</td>\n",
       "      <td>23.018471</td>\n",
       "      <td>9.146285</td>\n",
       "    </tr>\n",
       "    <tr>\n",
       "      <th>4</th>\n",
       "      <td>E07000088</td>\n",
       "      <td>52.159555</td>\n",
       "      <td>20.821356</td>\n",
       "      <td>8.316713</td>\n",
       "    </tr>\n",
       "  </tbody>\n",
       "</table>\n",
       "</div>"
      ],
      "text/plain": [
       "        Area  Ping_promedio  Descarga_promedio  Carga_promedio\n",
       "0  E06000049      57.118931          23.482727        9.389337\n",
       "1  E07000192      52.211869          20.804882        8.344268\n",
       "2  E08000005      54.087219          22.189738        8.778285\n",
       "3  E06000018      55.543339          23.018471        9.146285\n",
       "4  E07000088      52.159555          20.821356        8.316713"
      ]
     },
     "execution_count": 20,
     "metadata": {},
     "output_type": "execute_result"
    }
   ],
   "source": [
    "# this will take a while...\n",
    "for i in range(len(columns)-1):\n",
    "    tmp_list = []\n",
    "    tmp_list.append(columns[i])\n",
    "    for s in suffix.keys():\n",
    "        consulta = 'SELECT AVG(\"{}{}\") FROM LA_wifi_speed_UK'.format(columns[i], s)\n",
    "        cur.execute(consulta)\n",
    "        mean = cur.fetchone()\n",
    "        tmp_list.append(mean[0])\n",
    "    #append the columns to the empty DataFrame\n",
    "    df = df.append(pd.Series(tmp_list, index=new_columns), ignore_index=True)\n",
    "# visualize the head of the dataframe here\n",
    "df.head()"
   ]
  },
  {
   "cell_type": "code",
   "execution_count": 21,
   "metadata": {},
   "outputs": [
    {
     "data": {
      "text/plain": [
       "326"
      ]
     },
     "execution_count": 21,
     "metadata": {},
     "output_type": "execute_result"
    }
   ],
   "source": [
    "len(df)"
   ]
  },
  {
   "cell_type": "code",
   "execution_count": null,
   "metadata": {
    "scrolled": true
   },
   "outputs": [],
   "source": [
    "plt.figure(figsize=(20,10))\n",
    "plt.plot(df.index, df[['Descarga_promedio','Carga_promedio','Ping_promedio']], 'o')"
   ]
  },
  {
   "cell_type": "markdown",
   "metadata": {},
   "source": [
    "![](E08000021.png)"
   ]
  },
  {
   "cell_type": "code",
   "execution_count": 22,
   "metadata": {},
   "outputs": [],
   "source": [
    "try:\n",
    "    cur.execute('DROP TABLE average_speed')\n",
    "except:\n",
    "    pass\n",
    "df.to_sql('average_speed', conn)"
   ]
  },
  {
   "cell_type": "code",
   "execution_count": 23,
   "metadata": {},
   "outputs": [
    {
     "name": "stdout",
     "output_type": "stream",
     "text": [
      "(0, 'E06000049', 57.11893112511649, 23.48272682151498, 9.38933695300067)\n",
      "(1, 'E07000192', 52.21186919385844, 20.804881611149966, 8.34426803535672)\n"
     ]
    }
   ],
   "source": [
    "# just checking everything worked fine: select everything from the table we just created\n",
    "# and then print the first two rows of the result\n",
    "\n",
    "query_2 = 'SELECT * FROM average_speed'\n",
    "cur.execute(query_2)\n",
    "\n",
    "# print the first fetched record\n",
    "print(cur.fetchone())\n",
    "# print the next fetched record\n",
    "print(cur.fetchone())"
   ]
  },
  {
   "cell_type": "markdown",
   "metadata": {},
   "source": [
    "## Unir Tablas"
   ]
  },
  {
   "cell_type": "code",
   "execution_count": 24,
   "metadata": {},
   "outputs": [
    {
     "name": "stdout",
     "output_type": "stream",
     "text": [
      "('Aberdeen City', 'S12000033', 222793)\n",
      "('Aberdeenshire', 'S12000034', 252973)\n",
      "('Adur', 'E07000223', 61182)\n",
      "('Allerdale', 'E07000026', 96422)\n",
      "('Amber Valley', 'E07000032', 122309)\n",
      "('Angus', 'S12000041', 115978)\n",
      "('Antrim and Newtownabbey', 'N09000001', 138567)\n",
      "('Ards and North Down', 'N09000011', 156672)\n",
      "('Argyll and Bute', 'S12000035', 88166)\n",
      "('Armagh City, Banbridge and Craigavon', 'N09000002', 199693)\n"
     ]
    }
   ],
   "source": [
    "query = 'SELECT * FROM LA_population LIMIT 10'\n",
    "cur.execute(query)\n",
    "for row in cur:\n",
    "    print(row)"
   ]
  },
  {
   "cell_type": "code",
   "execution_count": 25,
   "metadata": {},
   "outputs": [
    {
     "name": "stdout",
     "output_type": "stream",
     "text": [
      "(0, 'E06000049', 57.11893112511649, 23.48272682151498, 9.38933695300067, 'Cheshire East', 'E06000049', 370127)\n",
      "(1, 'E07000192', 52.21186919385844, 20.804881611149966, 8.34426803535672, 'Cannock Chase', 'E07000192', 97462)\n",
      "(2, 'E08000005', 54.08721859142486, 22.18973793152207, 8.7782853671417, 'Rochdale', 'E08000005', 211699)\n",
      "(3, 'E06000018', 55.54333923008997, 23.01847059824432, 9.146285112583122, 'Nottingham', 'E06000018', 305680)\n",
      "(4, 'E07000088', 52.159555077647454, 20.821356161137263, 8.31671318145464, 'Gosport', 'E07000088', 82622)\n",
      "(5, 'E07000194', 52.11103901321929, 20.892160562907634, 8.355531143729888, 'Lichfield', 'E07000194', 100654)\n",
      "(6, 'E07000038', 51.78235350498569, 20.860655087433024, 8.356288120951067, 'North East Derbyshire', 'E07000038', 99023)\n",
      "(7, 'E07000220', 52.173417604189716, 20.96435683418015, 8.37447670333847, 'Rugby', 'E07000220', 100075)\n",
      "(8, 'E07000110', 52.850341015191695, 21.72109968087522, 8.568198903188927, 'Maidstone', 'E07000110', 155143)\n",
      "(9, 'E09000026', 54.939001450984435, 22.68436936582302, 9.061575907134813, 'Redbridge', 'E09000026', 278970)\n",
      "(10, 'E08000002', 53.442651192980115, 21.93624230363881, 8.674345578856963, 'Bury', 'E08000002', 185060)\n"
     ]
    }
   ],
   "source": [
    "query = 'SELECT * FROM average_speed JOIN LA_population ON LA_population.\"LA_code\"=average_speed.Area'\n",
    "\n",
    "cur.execute(query)\n",
    "k = 0\n",
    "for row in cur:\n",
    "    if k>10:\n",
    "        break\n",
    "    print(row)\n",
    "    k+=1"
   ]
  },
  {
   "cell_type": "code",
   "execution_count": null,
   "metadata": {},
   "outputs": [],
   "source": []
  }
 ],
 "metadata": {
  "kernelspec": {
   "display_name": "Python 3",
   "language": "python",
   "name": "python3"
  },
  "language_info": {
   "codemirror_mode": {
    "name": "ipython",
    "version": 3
   },
   "file_extension": ".py",
   "mimetype": "text/x-python",
   "name": "python",
   "nbconvert_exporter": "python",
   "pygments_lexer": "ipython3",
   "version": "3.7.6"
  }
 },
 "nbformat": 4,
 "nbformat_minor": 4
}
